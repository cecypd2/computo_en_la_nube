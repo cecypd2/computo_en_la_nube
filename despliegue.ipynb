{
 "cells": [
  {
   "cell_type": "code",
   "execution_count": null,
   "metadata": {},
   "outputs": [],
   "source": [
    "import pickle\n",
    "\n",
    "file = open('bankruptancy_pred.pkl', 'wb')\n",
    "pickle.dump(reg, file)\n",
    "file.close()"
   ]
  },
  {
   "cell_type": "code",
   "execution_count": 3,
   "metadata": {},
   "outputs": [
    {
     "name": "stderr",
     "output_type": "stream",
     "text": [
      "UserWarning: The resource group doesn't exist or was not provided. AzureML SDK is creating a resource group=model1 in location=centralindia using subscription=bca1f975-a81a-4b96-9e28-0187c0a9e76c.\n"
     ]
    },
    {
     "name": "stdout",
     "output_type": "stream",
     "text": [
      "Cleaning up past default Resource Group Deployments on the subscription to avoid limit of 10\n",
      "Deleting past Resource Group Deployment with name: DeployResourceGroup-b725e9e602\n",
      "Deploying KeyVault with name bankruptkeyvault9b2cb4c0.\n",
      "Deploying AppInsights with name bankruptinsightsd89365ff.\n",
      "Deployed AppInsights with name bankruptinsightsd89365ff. Took 42.18 seconds.\n",
      "Deploying Workspace with name Bankruptancy_pred.\n",
      "Deployed Workspace with name Bankruptancy_pred. Took 44.28 seconds.\n"
     ]
    }
   ],
   "source": [
    "#GETTING MY ID:\n",
    "import json\n",
    "\n",
    "id = open('myID1.json', 'r')\n",
    "mi = json.load(id)\n",
    "\n",
    "from azureml.core import Workspace\n",
    "\n",
    "ws = Workspace.create(name=\"Bankruptancy_pred\",\n",
    "                      subscription_id = mi[\"my_id\"],\n",
    "                      resource_group = \"model1\",\n",
    "                      location = \"centralindia\")"
   ]
  },
  {
   "cell_type": "code",
   "execution_count": null,
   "metadata": {},
   "outputs": [],
   "source": [
    "from azureml.core.model import Model\n",
    "\n",
    "registered_model = Model.register(model_path=\"bankruptancy_pred.pkl\",\n",
    "                                  model_name=\"bankruptancy_pred_model\",\n",
    "                                  workspace=ws)"
   ]
  },
  {
   "cell_type": "code",
   "execution_count": null,
   "metadata": {},
   "outputs": [],
   "source": [
    "from azureml.core.environment import Environment\n",
    "virtual_env = Environment(\"env-4-bankruptancy\")\n",
    "\n",
    "from azureml.core.conda_dependencies import CondaDependencies\n",
    "virtual_env.python.conda_dependencies = CondaDependencies.create(conda_packages=['pandas','scikit-learn'])"
   ]
  },
  {
   "cell_type": "code",
   "execution_count": null,
   "metadata": {},
   "outputs": [],
   "source": [
    "################ score.py ###################\n",
    "\n",
    "scorepy = \"\"\"\n",
    "import json\n",
    "import joblib\n",
    "import numpy as np\n",
    "import pandas as pd\n",
    "from azureml.core.model import Model\n",
    "\n",
    "def init():\n",
    "  global model\n",
    "  model_path = Model.get_model_path('bankruptancy_pred_model')\n",
    "  model = joblib.load(model_path)\n",
    "\n",
    "def run(raw_data):\n",
    "  try:\n",
    "    data = json.loads(raw_data)['data']\n",
    "    data = pd.DataFrame(data)\n",
    "    data_dummies = data([' ROA(C) before interest and depreciation before interest',\n",
    "       ' ROA(A) before interest and % after tax',\n",
    "       ' ROA(B) before interest and depreciation after tax',\n",
    "       ' Persistent EPS in the Last Four Seasons', ' Debt ratio %',\n",
    "       ' Net worth/Assets', ' Borrowing dependency',\n",
    "       ' Retained Earnings to Total Assets', ' Net Income to Total Assets',\n",
    "       ' Liability to Equity'], axis=1)\n",
    "\n",
    "    result = model.predict(data_dummies)\n",
    "\n",
    "    return json.dumps({\"result\": result.tolist()})\n",
    "  except Exception as e:\n",
    "    return json.dumps({\"error\": str(e)})\n",
    "\"\"\"\n",
    "\n",
    "file_score = open(\"score.py\", \"w\")\n",
    "file_score.write(scorepy)\n",
    "file_score.close()"
   ]
  },
  {
   "cell_type": "code",
   "execution_count": null,
   "metadata": {},
   "outputs": [],
   "source": [
    "from azureml.core.model import InferenceConfig\n",
    "from azureml.core.webservice import AciWebservice\n",
    "inference_config = InferenceConfig(\n",
    "                                environment=virtual_env,\n",
    "                                entry_script=\"score.py\",\n",
    "                                )\n",
    "aci_config = AciWebservice.deploy_configuration(cpu_cores=0.5, memory_gb=1) ## ASEGÚRENSE DE ASIGNAR SUFICIENTE MADERA PARA SUS MUEBLES.\n",
    "\n",
    "service = Model.deploy(workspace=ws,\n",
    "                       name='bankruptancy_service',\n",
    "                       models=[registered_model],\n",
    "                       inference_config=inference_config,\n",
    "                       deployment_config=aci_config,\n",
    "                       overwrite=True,\n",
    "                       )"
   ]
  },
  {
   "cell_type": "code",
   "execution_count": null,
   "metadata": {},
   "outputs": [],
   "source": [
    "service.wait_for_deployment()\n",
    "\n",
    "scoring_uri = service.scoring_uri\n",
    "\n",
    "scoreuri = json.dumps({\"URI\": [scoring_uri]})\n",
    "file = open(\"uri.json\", \"w\")\n",
    "file.write(scoreuri)\n",
    "file.close()"
   ]
  }
 ],
 "metadata": {
  "kernelspec": {
   "display_name": ".venv",
   "language": "python",
   "name": "python3"
  },
  "language_info": {
   "codemirror_mode": {
    "name": "ipython",
    "version": 3
   },
   "file_extension": ".py",
   "mimetype": "text/x-python",
   "name": "python",
   "nbconvert_exporter": "python",
   "pygments_lexer": "ipython3",
   "version": "3.8.20"
  }
 },
 "nbformat": 4,
 "nbformat_minor": 2
}

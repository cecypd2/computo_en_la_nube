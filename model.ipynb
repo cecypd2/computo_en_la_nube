{
  "nbformat": 4,
  "nbformat_minor": 0,
  "metadata": {
    "colab": {
      "provenance": []
    },
    "kernelspec": {
      "name": "python3",
      "display_name": "Python 3"
    },
    "language_info": {
      "name": "python"
    }
  },
  "cells": [
    {
      "cell_type": "code",
      "execution_count": 1,
      "metadata": {
        "id": "3WUA8A9fqL1x"
      },
      "outputs": [],
      "source": [
        "import pandas as pd\n",
        "from sklearn.model_selection import train_test_split, StratifiedKFold, GridSearchCV\n",
        "from sklearn.svm import SVC\n",
        "from sklearn.metrics import classification_report, roc_auc_score\n",
        "import joblib"
      ]
    },
    {
      "cell_type": "code",
      "source": [
        "# Cargar datos\n",
        "df = pd.read_csv(\"data_limpio_umbral.csv\") \n",
        "X = df.drop(columns=\"Bankrupt?\")\n",
        "y = df[\"Bankrupt?\"]"
      ],
      "metadata": {
        "id": "fu3hsJz3q-lS"
      },
      "execution_count": 2,
      "outputs": []
    },
    {
      "cell_type": "code",
      "source": [
        "# Separar en train/test con estratificación\n",
        "X_train, X_test, y_train, y_test = train_test_split(\n",
        "    X, y, test_size=0.2, stratify=y, random_state=42\n",
        ")\n",
        "\n",
        "# Definir el modelo base y el grid de hiperparámetros\n",
        "svm = SVC(probability=True, class_weight='balanced', random_state=42)\n",
        "param_grid = {\n",
        "    'C': [0.1, 1, 10],\n",
        "    'gamma': ['scale', 0.01, 0.001],\n",
        "    'kernel': ['rbf']\n",
        "}"
      ],
      "metadata": {
        "id": "IYZiBCf8rAtO"
      },
      "execution_count": 3,
      "outputs": []
    },
    {
      "cell_type": "code",
      "source": [
        "# Definir validación cruzada estratificada\n",
        "cv = StratifiedKFold(n_splits=5, shuffle=True, random_state=42)\n",
        "\n",
        "# Buscar los mejores hiperparámetros\n",
        "grid = GridSearchCV(\n",
        "    estimator=svm,\n",
        "    param_grid=param_grid,\n",
        "    scoring='roc_auc',\n",
        "    cv=cv,\n",
        "    n_jobs=-1,\n",
        "    verbose=1\n",
        ")\n",
        "\n",
        "grid.fit(X_train, y_train)\n",
        "best_svm = grid.best_estimator_"
      ],
      "metadata": {
        "colab": {
          "base_uri": "https://localhost:8080/"
        },
        "id": "cSeJxbSfrF6C",
        "outputId": "0e1015b9-3ba4-4da9-fd3d-da9ccdbe33d5"
      },
      "execution_count": 4,
      "outputs": [
        {
          "output_type": "stream",
          "name": "stdout",
          "text": [
            "Fitting 5 folds for each of 9 candidates, totalling 45 fits\n"
          ]
        }
      ]
    },
    {
      "cell_type": "code",
      "source": [
        "# Evaluar en test set\n",
        "y_pred = best_svm.predict(X_test)\n",
        "y_proba = best_svm.predict_proba(X_test)[:, 1]\n",
        "\n",
        "print(\"Mejores hiperparámetros:\", grid.best_params_)\n",
        "print(\"\\nClassification Report en test:\")\n",
        "print(classification_report(y_test, y_pred))\n",
        "print(f\"ROC AUC: {roc_auc_score(y_test, y_proba):.4f}\")"
      ],
      "metadata": {
        "colab": {
          "base_uri": "https://localhost:8080/"
        },
        "id": "54DjG7IxrL6b",
        "outputId": "23803120-6535-4ba3-d61f-7d5a649eea83"
      },
      "execution_count": 5,
      "outputs": [
        {
          "output_type": "stream",
          "name": "stdout",
          "text": [
            "Mejores hiperparámetros: {'C': 1, 'gamma': 'scale', 'kernel': 'rbf'}\n",
            "\n",
            "Classification Report en test:\n",
            "              precision    recall  f1-score   support\n",
            "\n",
            "         0.0       0.99      0.85      0.92      1320\n",
            "         1.0       0.17      0.86      0.28        44\n",
            "\n",
            "    accuracy                           0.85      1364\n",
            "   macro avg       0.58      0.86      0.60      1364\n",
            "weighted avg       0.97      0.85      0.90      1364\n",
            "\n",
            "ROC AUC: 0.9251\n"
          ]
        }
      ]
    },
    {
      "cell_type": "code",
      "source": [
        "# Guardar el modelo entrenado\n",
        "joblib.dump(best_svm, \"model.pkl\")"
      ],
      "metadata": {
        "colab": {
          "base_uri": "https://localhost:8080/"
        },
        "id": "0r72njF8rPG3",
        "outputId": "5de213c6-c439-4650-f2c4-2029998a0c8e"
      },
      "execution_count": 6,
      "outputs": [
        {
          "output_type": "execute_result",
          "data": {
            "text/plain": [
              "['model.pkl']"
            ]
          },
          "metadata": {},
          "execution_count": 6
        }
      ]
    }
  ]
}

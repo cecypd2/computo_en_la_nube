{
  "cells": [
    {
      "cell_type": "code",
      "execution_count": 3,
      "metadata": {
        "id": "3WUA8A9fqL1x"
      },
      "outputs": [],
      "source": [
        "import pandas as pd\n",
        "from sklearn.model_selection import train_test_split, StratifiedKFold, GridSearchCV\n",
        "from sklearn.svm import SVC\n",
        "from sklearn.metrics import classification_report, roc_auc_score\n",
        "import joblib"
      ]
    },
    {
      "cell_type": "code",
      "execution_count": 4,
      "metadata": {
        "id": "fu3hsJz3q-lS"
      },
      "outputs": [],
      "source": [
        "# Cargar datos\n",
        "df = pd.read_csv(\"data_limpio_umbral.csv\")  # Reemplaza con tu archivo real\n",
        "X = df.drop(columns=\"Bankrupt?\")\n",
        "y = df[\"Bankrupt?\"]"
      ]
    },
    {
      "cell_type": "code",
      "execution_count": 5,
      "metadata": {
        "id": "IYZiBCf8rAtO"
      },
      "outputs": [],
      "source": [
        "# Separar en train/test con estratificación\n",
        "X_train, X_test, y_train, y_test = train_test_split(\n",
        "    X, y, test_size=0.2, stratify=y, random_state=42\n",
        ")\n",
        "\n",
        "# Definir el modelo base y el grid de hiperparámetros\n",
        "svm = SVC(probability=True, class_weight='balanced', random_state=42)\n",
        "param_grid = {\n",
        "    'C': [0.1, 1, 10],\n",
        "    'gamma': ['scale', 0.01, 0.001],\n",
        "    'kernel': ['rbf']\n",
        "}"
      ]
    },
    {
      "cell_type": "code",
      "execution_count": 6,
      "metadata": {
        "colab": {
          "base_uri": "https://localhost:8080/"
        },
        "id": "cSeJxbSfrF6C",
        "outputId": "0e1015b9-3ba4-4da9-fd3d-da9ccdbe33d5"
      },
      "outputs": [
        {
          "name": "stdout",
          "output_type": "stream",
          "text": [
            "Fitting 5 folds for each of 9 candidates, totalling 45 fits\n"
          ]
        }
      ],
      "source": [
        "# Definir validación cruzada estratificada\n",
        "cv = StratifiedKFold(n_splits=5, shuffle=True, random_state=42)\n",
        "\n",
        "# Buscar los mejores hiperparámetros\n",
        "grid = GridSearchCV(\n",
        "    estimator=svm,\n",
        "    param_grid=param_grid,\n",
        "    scoring='roc_auc',\n",
        "    cv=cv,\n",
        "    n_jobs=-1,\n",
        "    verbose=1\n",
        ")\n",
        "\n",
        "grid.fit(X_train, y_train)\n",
        "best_svm = grid.best_estimator_"
      ]
    },
    {
      "cell_type": "code",
      "execution_count": 7,
      "metadata": {
        "colab": {
          "base_uri": "https://localhost:8080/"
        },
        "id": "54DjG7IxrL6b",
        "outputId": "23803120-6535-4ba3-d61f-7d5a649eea83"
      },
      "outputs": [
        {
          "name": "stdout",
          "output_type": "stream",
          "text": [
            "Mejores hiperparámetros: {'C': 1, 'gamma': 'scale', 'kernel': 'rbf'}\n",
            "\n",
            "Classification Report en test:\n",
            "              precision    recall  f1-score   support\n",
            "\n",
            "         0.0       0.99      0.85      0.92      1320\n",
            "         1.0       0.17      0.86      0.28        44\n",
            "\n",
            "    accuracy                           0.85      1364\n",
            "   macro avg       0.58      0.86      0.60      1364\n",
            "weighted avg       0.97      0.85      0.90      1364\n",
            "\n",
            "ROC AUC: 0.9251\n"
          ]
        }
      ],
      "source": [
        "# Evaluar en test set\n",
        "y_pred = best_svm.predict(X_test)\n",
        "y_proba = best_svm.predict_proba(X_test)[:, 1]\n",
        "\n",
        "print(\"Mejores hiperparámetros:\", grid.best_params_)\n",
        "print(\"\\nClassification Report en test:\")\n",
        "print(classification_report(y_test, y_pred))\n",
        "print(f\"ROC AUC: {roc_auc_score(y_test, y_proba):.4f}\")"
      ]
    },
    {
      "cell_type": "code",
      "execution_count": 8,
      "metadata": {
        "colab": {
          "base_uri": "https://localhost:8080/"
        },
        "id": "0r72njF8rPG3",
        "outputId": "5de213c6-c439-4650-f2c4-2029998a0c8e"
      },
      "outputs": [
        {
          "data": {
            "text/plain": [
              "['model.pkl']"
            ]
          },
          "execution_count": 8,
          "metadata": {},
          "output_type": "execute_result"
        }
      ],
      "source": [
        "# Guardar el modelo entrenado\n",
        "joblib.dump(best_svm, \"model.pkl\")"
      ]
    }
  ],
  "metadata": {
    "colab": {
      "provenance": []
    },
    "kernelspec": {
      "display_name": ".venv",
      "language": "python",
      "name": "python3"
    },
    "language_info": {
      "codemirror_mode": {
        "name": "ipython",
        "version": 3
      },
      "file_extension": ".py",
      "mimetype": "text/x-python",
      "name": "python",
      "nbconvert_exporter": "python",
      "pygments_lexer": "ipython3",
      "version": "3.8.20"
    }
  },
  "nbformat": 4,
  "nbformat_minor": 0
}

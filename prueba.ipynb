{
 "cells": [
  {
   "cell_type": "code",
   "execution_count": null,
   "metadata": {},
   "outputs": [],
   "source": [
    "import json\n",
    "\n",
    "# Leer el scoring_uri desde el archivo uri.json\n",
    "with open(\"uri.json\", \"r\") as f:\n",
    "    uri_data = json.load(f)\n",
    "    scoring_uri = uri_data[\"URI\"][0]"
   ]
  },
  {
   "cell_type": "code",
   "execution_count": null,
   "metadata": {},
   "outputs": [],
   "source": [
    "import pandas as pd\n",
    "\n",
    "test_data = pd.read_csv(\"bankruptcy_test.csv\")\n",
    "\n",
    "import json\n",
    "test_data_json = json.dumps({\"data\": [test_data]})\n",
    "\n",
    "headers = {\"Content-Type\": \"application/json\"}\n",
    "\n",
    "import requests\n",
    "response = requests.post(scoring_uri, data=test_data_json, headers=headers)\n",
    "\n",
    "if response.status_code == 200:\n",
    "  result = json.loads(response.json())\n",
    "  print(result)\n",
    "  two_houses[\"median_house_value\"] = result[\"result\"]\n",
    "  display(pd.DataFrame(two_houses))\n",
    "else:\n",
    "  print(f\"Error: {response.text}\")"
   ]
  }
 ],
 "metadata": {
  "language_info": {
   "name": "python"
  }
 },
 "nbformat": 4,
 "nbformat_minor": 2
}
